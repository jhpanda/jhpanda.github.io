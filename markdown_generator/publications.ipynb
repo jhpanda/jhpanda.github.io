{
 "cells": [
  {
   "cell_type": "markdown",
   "metadata": {
    "deletable": true,
    "editable": true
   },
   "source": [
    "# Publications markdown generator for academicpages\n",
    "\n",
    "Takes a TSV of publications with metadata and converts them for use with [academicpages.github.io](academicpages.github.io). This is an interactive Jupyter notebook ([see more info here](http://jupyter-notebook-beginner-guide.readthedocs.io/en/latest/what_is_jupyter.html)). The core python code is also in `publications.py`. Run either from the `markdown_generator` folder after replacing `publications.tsv` with one containing your data.\n",
    "\n",
    "TODO: Make this work with BibTex and other databases of citations, rather than Stuart's non-standard TSV format and citation style.\n"
   ]
  },
  {
   "cell_type": "markdown",
   "metadata": {},
   "source": [
    "## Data format\n",
    "\n",
    "The TSV needs to have the following columns: pub_date, title, venue, excerpt, citation, site_url, and paper_url, with a header at the top. \n",
    "\n",
    "- `excerpt` and `paper_url` can be blank, but the others must have values. \n",
    "- `pub_date` must be formatted as YYYY-MM-DD.\n",
    "- `url_slug` will be the descriptive part of the .md file and the permalink URL for the page about the paper. The .md file will be `YYYY-MM-DD-[url_slug].md` and the permalink will be `https://[yourdomain]/publications/YYYY-MM-DD-[url_slug]`\n",
    "\n",
    "This is how the raw file looks (it doesn't look pretty, use a spreadsheet or other program to edit and create)."
   ]
  },
  {
   "cell_type": "code",
   "execution_count": 1,
   "metadata": {
    "collapsed": false
   },
   "outputs": [
    {
     "name": "stdout",
     "output_type": "stream",
     "text": [
      "pub_date\ttitle\tvenue\texcerpt\tcitation\turl_slug\tpaper_url\n",
      "2024-03-24\tThe Origin and Evolution of Sex Peptide and Sex Peptide Receptor Interactions\tMolecular Biology and Evolution\tDescription\t<b>Junhui Peng</b>, Nicolas Svetec, Henrik Molina, Li Zhao: The Origin and Evolution of Sex Peptide and Sex Peptide Receptor Interactions. <b>Mol Biol Evol</b> 2024; 41(4).\tpaper-title-number-1\t<a href=\"https://academic.oup.com/mbe/article/41/4/msae065/7633838\">Link</a> <a href=\"https://jhpanda.github.io/files/sp.pdf\">PDF</a>\n",
      "2024-01-27\tThe origin and structural evolution of de novo genes in Drosophila\tNature Communications\tDescription\t<b>Junhui Peng</b>, Li Zhao: The origin and structural evolution of de novo genes in Drosophila. <b>Nat Commun</b> 2024; 15, 810.\tpaper-title-number-1\t<a href=\"https://www.nature.com/articles/s41467-024-45028-1\">Link</a> <a href=\"https://jhpanda.github.io/files/denovo_genes.pdf\">PDF</a>\n",
      "2021-12-08\tIntermolecular interactions drive protein adaptive and co-adaptive evolution at both species and population levels\tMolecular Biology and Evolution\tIntermolecular interactions drive protein adaptive and co-adaptive evolution at both species and population levels\t<b>Junhui Peng</b>, Nicolas Svetec, Li Zhao, Intermolecular interactions drive protein adaptive and co-adaptive evolution at both species and population levels, <b>Mol Biol Evol</b> 2022; 39 (1).\tpaper-title-number-2\t<a href=\"https://academic.oup.com/mbe/article/39/1/msab350/6456312\">Link</a> <a href=\"https://jhpanda.github.io/files/paper1.pdf\">PDF</a>\n",
      "2021-02-15\tBehavioral and Genomic Sensory Adaptations Underlying the Pest Activity of Drosophila suzukii \tMolecular Biology and Evolution\tDescription\t Sylvia M Durkin, Mahul Chakraborty, Antoine Abrieux, Kyle M Lewald, Alice Gadau, Nicolas Svetec, <b>Junhui Peng</b>, Miriam Kopyto, Christopher B Langer, Joanna C Chiu, J J Emerson, Li Zhao, Behavioral and Genomic Sensory Adaptations Underlying the Pest Activity of Drosophila suzukii, <b>Mol Biol Evol</b> 2021; 38 (6).\tpaper-title-number-3\t<a href=\"https://academic.oup.com/mbe/article/38/6/2532/6136175\">Link</a> <a href=\"https://jhpanda.github.io/files/paper2.pdf\">PDF</a>\n",
      "2020-07-14\tMolecular mechanism of histone variant H2A. B on stability and assembly of nucleosome and chromatin structures\tEpigenetics & chromatin\tDescription\t<b>Junhui Peng</b>, Chuang Yuan, Xinfan Hua and Zhiyong Zhang: Molecular mechanism of histone variant H2A. B on stability and assembly of nucleosome and chromatin structures. <b>Epigenetics Chromatin</b> 2020; 13(1).\tpaper-title-number-4\t<a href=\"https://epigeneticsandchromatin.biomedcentral.com/articles/10.1186/s13072-020-00351-x\">Link</a> <a href=\"https://jhpanda.github.io/files/paper3.pdf\">PDF</a>\n",
      "2019-03-25\tBackmapping from Multiresolution Coarse-Grained Models to Atomic Structures of Large Biomolecules by Restrained Molecular Dynamics Simulations using Bayesian Inference\tJournal of Chemical Theory and Computation\tDescription\t<b>Junhui Peng</b>, Chuang Yuan, Rongsheng Ma, Zhiyong Zhang, Backmapping from Multiresolution Coarse-Grained Models to Atomic Structures of Large Biomolecules by Restrained Molecular Dynamics Simulations using Bayesian Inference, <b>J Chem Theor Comp</b> 2019; 15(5).\tpaper-title-number-5\t<a href=\"https://pubs.acs.org/doi/abs/10.1021/acs.jctc.9b00062\">Link</a> <a href=\"https://jhpanda.github.io/files/paper4.pdf\">PDF</a>\n",
      "2018-09-25\tClustering algorithms to analyze molecular dynamics simulation trajectories for complex chemical and biological systems\tChinese Journal of Chemical Physics\tDescription\t<b>Junhui Peng</b>, Wei Wang, Yeqing Yu, Hanlin Gu and Xuhui Huang, Clustering algorithms to Analyze Molecular Dynamics Simulation Trajectories for Complex Chemical and Biological Systems, <b>Chinese J Chem Phys</b> 2018; 31(4).\tpaper-title-number-6\t<a href=\"https://cps.scitation.org/doi/10.1063/1674-0068/31/cjcp1806147\">Link</a> <a href=\"https://jhpanda.github.io/files/paper5.pdf\">PDF</a>\n",
      "2017-12-05\tInsights into the Structure of Dimeric RNA Helicase CsdA and Indispensable Role of Its C-Terminal Regions\tStructure\tDescription\tLing Xu, Lijun Wang, <b>Junhui Peng</b>, Fudong Li, Lijie Wu, Beibei Zhang, Mengqi Lv, Jiahai Zhang, Qingguo Gong, Rongguang Zhang, Xiaobing Zuo, Zhiyong Zhang, Jihui Wu, Yajun Tang, Yunyu Shi, Insights into the Structure of Dimeric RNA Helicase CsdA and Indispensable Role of Its C-Terminal Regions, <b>Structure</b> 2017; 25 (12).\tpaper-title-number-7\t<a href=\"https://www.sciencedirect.com/science/article/pii/S0969212617303040\">Link</a> <a href=\"https://jhpanda.github.io/files/paper5.pdf\">PDF</a>\n"
     ]
    }
   ],
   "source": [
    "!rm -rf ../_publications/*md\n",
    "!cat publications.tsv"
   ]
  },
  {
   "cell_type": "markdown",
   "metadata": {},
   "source": [
    "## Import pandas\n",
    "\n",
    "We are using the very handy pandas library for dataframes."
   ]
  },
  {
   "cell_type": "code",
   "execution_count": 2,
   "metadata": {
    "collapsed": true,
    "deletable": true,
    "editable": true
   },
   "outputs": [],
   "source": [
    "import pandas as pd"
   ]
  },
  {
   "cell_type": "markdown",
   "metadata": {},
   "source": [
    "## Import TSV\n",
    "\n",
    "Pandas makes this easy with the read_csv function. We are using a TSV, so we specify the separator as a tab, or `\\t`.\n",
    "\n",
    "I found it important to put this data in a tab-separated values format, because there are a lot of commas in this kind of data and comma-separated values can get messed up. However, you can modify the import statement, as pandas also has read_excel(), read_json(), and others."
   ]
  },
  {
   "cell_type": "code",
   "execution_count": 3,
   "metadata": {
    "collapsed": false,
    "deletable": true,
    "editable": true
   },
   "outputs": [
    {
     "data": {
      "text/html": [
       "<div>\n",
       "<style scoped>\n",
       "    .dataframe tbody tr th:only-of-type {\n",
       "        vertical-align: middle;\n",
       "    }\n",
       "\n",
       "    .dataframe tbody tr th {\n",
       "        vertical-align: top;\n",
       "    }\n",
       "\n",
       "    .dataframe thead th {\n",
       "        text-align: right;\n",
       "    }\n",
       "</style>\n",
       "<table border=\"1\" class=\"dataframe\">\n",
       "  <thead>\n",
       "    <tr style=\"text-align: right;\">\n",
       "      <th></th>\n",
       "      <th>pub_date</th>\n",
       "      <th>title</th>\n",
       "      <th>venue</th>\n",
       "      <th>excerpt</th>\n",
       "      <th>citation</th>\n",
       "      <th>url_slug</th>\n",
       "      <th>paper_url</th>\n",
       "    </tr>\n",
       "  </thead>\n",
       "  <tbody>\n",
       "    <tr>\n",
       "      <th>0</th>\n",
       "      <td>2024-03-24</td>\n",
       "      <td>The Origin and Evolution of Sex Peptide and Se...</td>\n",
       "      <td>Molecular Biology and Evolution</td>\n",
       "      <td>Description</td>\n",
       "      <td>&lt;b&gt;Junhui Peng&lt;/b&gt;, Nicolas Svetec, Henrik Mol...</td>\n",
       "      <td>paper-title-number-1</td>\n",
       "      <td>&lt;a href=\"https://academic.oup.com/mbe/article/...</td>\n",
       "    </tr>\n",
       "    <tr>\n",
       "      <th>1</th>\n",
       "      <td>2024-01-27</td>\n",
       "      <td>The origin and structural evolution of de novo...</td>\n",
       "      <td>Nature Communications</td>\n",
       "      <td>Description</td>\n",
       "      <td>&lt;b&gt;Junhui Peng&lt;/b&gt;, Li Zhao: The origin and st...</td>\n",
       "      <td>paper-title-number-1</td>\n",
       "      <td>&lt;a href=\"https://www.nature.com/articles/s4146...</td>\n",
       "    </tr>\n",
       "    <tr>\n",
       "      <th>2</th>\n",
       "      <td>2021-12-08</td>\n",
       "      <td>Intermolecular interactions drive protein adap...</td>\n",
       "      <td>Molecular Biology and Evolution</td>\n",
       "      <td>Intermolecular interactions drive protein adap...</td>\n",
       "      <td>&lt;b&gt;Junhui Peng&lt;/b&gt;, Nicolas Svetec, Li Zhao, I...</td>\n",
       "      <td>paper-title-number-2</td>\n",
       "      <td>&lt;a href=\"https://academic.oup.com/mbe/article/...</td>\n",
       "    </tr>\n",
       "    <tr>\n",
       "      <th>3</th>\n",
       "      <td>2021-02-15</td>\n",
       "      <td>Behavioral and Genomic Sensory Adaptations Und...</td>\n",
       "      <td>Molecular Biology and Evolution</td>\n",
       "      <td>Description</td>\n",
       "      <td>Sylvia M Durkin, Mahul Chakraborty, Antoine A...</td>\n",
       "      <td>paper-title-number-3</td>\n",
       "      <td>&lt;a href=\"https://academic.oup.com/mbe/article/...</td>\n",
       "    </tr>\n",
       "    <tr>\n",
       "      <th>4</th>\n",
       "      <td>2020-07-14</td>\n",
       "      <td>Molecular mechanism of histone variant H2A. B ...</td>\n",
       "      <td>Epigenetics &amp; chromatin</td>\n",
       "      <td>Description</td>\n",
       "      <td>&lt;b&gt;Junhui Peng&lt;/b&gt;, Chuang Yuan, Xinfan Hua an...</td>\n",
       "      <td>paper-title-number-4</td>\n",
       "      <td>&lt;a href=\"https://epigeneticsandchromatin.biome...</td>\n",
       "    </tr>\n",
       "    <tr>\n",
       "      <th>5</th>\n",
       "      <td>2019-03-25</td>\n",
       "      <td>Backmapping from Multiresolution Coarse-Graine...</td>\n",
       "      <td>Journal of Chemical Theory and Computation</td>\n",
       "      <td>Description</td>\n",
       "      <td>&lt;b&gt;Junhui Peng&lt;/b&gt;, Chuang Yuan, Rongsheng Ma,...</td>\n",
       "      <td>paper-title-number-5</td>\n",
       "      <td>&lt;a href=\"https://pubs.acs.org/doi/abs/10.1021/...</td>\n",
       "    </tr>\n",
       "    <tr>\n",
       "      <th>6</th>\n",
       "      <td>2018-09-25</td>\n",
       "      <td>Clustering algorithms to analyze molecular dyn...</td>\n",
       "      <td>Chinese Journal of Chemical Physics</td>\n",
       "      <td>Description</td>\n",
       "      <td>&lt;b&gt;Junhui Peng&lt;/b&gt;, Wei Wang, Yeqing Yu, Hanli...</td>\n",
       "      <td>paper-title-number-6</td>\n",
       "      <td>&lt;a href=\"https://cps.scitation.org/doi/10.1063...</td>\n",
       "    </tr>\n",
       "    <tr>\n",
       "      <th>7</th>\n",
       "      <td>2017-12-05</td>\n",
       "      <td>Insights into the Structure of Dimeric RNA Hel...</td>\n",
       "      <td>Structure</td>\n",
       "      <td>Description</td>\n",
       "      <td>Ling Xu, Lijun Wang, &lt;b&gt;Junhui Peng&lt;/b&gt;, Fudon...</td>\n",
       "      <td>paper-title-number-7</td>\n",
       "      <td>&lt;a href=\"https://www.sciencedirect.com/science...</td>\n",
       "    </tr>\n",
       "  </tbody>\n",
       "</table>\n",
       "</div>"
      ],
      "text/plain": [
       "     pub_date                                              title  \\\n",
       "0  2024-03-24  The Origin and Evolution of Sex Peptide and Se...   \n",
       "1  2024-01-27  The origin and structural evolution of de novo...   \n",
       "2  2021-12-08  Intermolecular interactions drive protein adap...   \n",
       "3  2021-02-15  Behavioral and Genomic Sensory Adaptations Und...   \n",
       "4  2020-07-14  Molecular mechanism of histone variant H2A. B ...   \n",
       "5  2019-03-25  Backmapping from Multiresolution Coarse-Graine...   \n",
       "6  2018-09-25  Clustering algorithms to analyze molecular dyn...   \n",
       "7  2017-12-05  Insights into the Structure of Dimeric RNA Hel...   \n",
       "\n",
       "                                        venue  \\\n",
       "0             Molecular Biology and Evolution   \n",
       "1                       Nature Communications   \n",
       "2             Molecular Biology and Evolution   \n",
       "3             Molecular Biology and Evolution   \n",
       "4                     Epigenetics & chromatin   \n",
       "5  Journal of Chemical Theory and Computation   \n",
       "6         Chinese Journal of Chemical Physics   \n",
       "7                                   Structure   \n",
       "\n",
       "                                             excerpt  \\\n",
       "0                                        Description   \n",
       "1                                        Description   \n",
       "2  Intermolecular interactions drive protein adap...   \n",
       "3                                        Description   \n",
       "4                                        Description   \n",
       "5                                        Description   \n",
       "6                                        Description   \n",
       "7                                        Description   \n",
       "\n",
       "                                            citation              url_slug  \\\n",
       "0  <b>Junhui Peng</b>, Nicolas Svetec, Henrik Mol...  paper-title-number-1   \n",
       "1  <b>Junhui Peng</b>, Li Zhao: The origin and st...  paper-title-number-1   \n",
       "2  <b>Junhui Peng</b>, Nicolas Svetec, Li Zhao, I...  paper-title-number-2   \n",
       "3   Sylvia M Durkin, Mahul Chakraborty, Antoine A...  paper-title-number-3   \n",
       "4  <b>Junhui Peng</b>, Chuang Yuan, Xinfan Hua an...  paper-title-number-4   \n",
       "5  <b>Junhui Peng</b>, Chuang Yuan, Rongsheng Ma,...  paper-title-number-5   \n",
       "6  <b>Junhui Peng</b>, Wei Wang, Yeqing Yu, Hanli...  paper-title-number-6   \n",
       "7  Ling Xu, Lijun Wang, <b>Junhui Peng</b>, Fudon...  paper-title-number-7   \n",
       "\n",
       "                                           paper_url  \n",
       "0  <a href=\"https://academic.oup.com/mbe/article/...  \n",
       "1  <a href=\"https://www.nature.com/articles/s4146...  \n",
       "2  <a href=\"https://academic.oup.com/mbe/article/...  \n",
       "3  <a href=\"https://academic.oup.com/mbe/article/...  \n",
       "4  <a href=\"https://epigeneticsandchromatin.biome...  \n",
       "5  <a href=\"https://pubs.acs.org/doi/abs/10.1021/...  \n",
       "6  <a href=\"https://cps.scitation.org/doi/10.1063...  \n",
       "7  <a href=\"https://www.sciencedirect.com/science...  "
      ]
     },
     "execution_count": 3,
     "metadata": {},
     "output_type": "execute_result"
    }
   ],
   "source": [
    "publications = pd.read_csv(\"publications.tsv\", sep=\"\\t\", header=0)\n",
    "publications\n"
   ]
  },
  {
   "cell_type": "markdown",
   "metadata": {},
   "source": [
    "## Escape special characters\n",
    "\n",
    "YAML is very picky about how it takes a valid string, so we are replacing single and double quotes (and ampersands) with their HTML encoded equivilents. This makes them look not so readable in raw format, but they are parsed and rendered nicely."
   ]
  },
  {
   "cell_type": "code",
   "execution_count": 4,
   "metadata": {
    "collapsed": true,
    "deletable": true,
    "editable": true
   },
   "outputs": [],
   "source": [
    "html_escape_table = {\n",
    "    \"&\": \"&amp;\",\n",
    "    '\"': \"&quot;\",\n",
    "    \"'\": \"&apos;\"\n",
    "    }\n",
    "\n",
    "def html_escape(text):\n",
    "    \"\"\"Produce entities within text.\"\"\"\n",
    "    return \"\".join(html_escape_table.get(c,c) for c in text)"
   ]
  },
  {
   "cell_type": "markdown",
   "metadata": {},
   "source": [
    "## Creating the markdown files\n",
    "\n",
    "This is where the heavy lifting is done. This loops through all the rows in the TSV dataframe, then starts to concatentate a big string (```md```) that contains the markdown for each type. It does the YAML metadata first, then does the description for the individual page."
   ]
  },
  {
   "cell_type": "code",
   "execution_count": 5,
   "metadata": {
    "collapsed": false,
    "deletable": true,
    "editable": true
   },
   "outputs": [],
   "source": [
    "import os\n",
    "idx = 1\n",
    "for row, item in publications.iterrows():\n",
    "    url_slug = \"paper-title-number-%d\"%idx\n",
    "    md_filename = str(item.pub_date) + \"-\" + url_slug + \".md\"\n",
    "    html_filename = str(item.pub_date) + \"-\" + url_slug\n",
    "    year = item.pub_date[:4]\n",
    "    idx += 1\n",
    "    \n",
    "    ## YAML variables\n",
    "    \n",
    "    md = \"---\\ntitle: \\\"\"   + item.title + '\"\\n'\n",
    "    \n",
    "    md += \"\"\"collection: publications\"\"\"\n",
    "    \n",
    "    md += \"\"\"\\npermalink: /publication/\"\"\" + html_filename\n",
    "    \n",
    "    if len(str(item.excerpt)) > 5:\n",
    "        md += \"\\nexcerpt: '\" + html_escape(item.excerpt) + \"'\"\n",
    "    \n",
    "    md += \"\\ndate: \" + str(item.pub_date) \n",
    "    \n",
    "    md += \"\\nvenue: '\" + html_escape(item.venue) + \"'\"\n",
    "    \n",
    "    if len(str(item.paper_url)) > 5:\n",
    "        md += \"\\npaperurl: '\" + item.paper_url + \"'\"\n",
    "    \n",
    "    md += \"\\ncitation: '\" + html_escape(item.citation) + \"'\"\n",
    "    \n",
    "    md += \"\\n---\"\n",
    "    \n",
    "    ## Markdown description for individual page\n",
    "        \n",
    "    if len(str(item.excerpt)) > 5:\n",
    "        md += \"\\n\" + html_escape(item.excerpt) + \"\\n\"\n",
    "    \n",
    "    if len(str(item.paper_url)) > 5:\n",
    "        md += \"\\n[Download paper here](\" + item.paper_url + \")\\n\" \n",
    "        \n",
    "    md += \"\\nRecommended citation: \" + item.citation\n",
    "    \n",
    "    md_filename = os.path.basename(md_filename)\n",
    "       \n",
    "    with open(\"../_publications/\" + md_filename, 'w') as f:\n",
    "        f.write(md)"
   ]
  },
  {
   "cell_type": "markdown",
   "metadata": {},
   "source": [
    "These files are in the publications directory, one directory below where we're working from."
   ]
  },
  {
   "cell_type": "code",
   "execution_count": 6,
   "metadata": {
    "collapsed": false,
    "deletable": true,
    "editable": true
   },
   "outputs": [
    {
     "name": "stdout",
     "output_type": "stream",
     "text": [
      "2017-12-05-paper-title-number-8.md 2021-02-15-paper-title-number-4.md\n",
      "2018-09-25-paper-title-number-7.md 2021-12-08-paper-title-number-3.md\n",
      "2019-03-25-paper-title-number-6.md 2024-01-27-paper-title-number-2.md\n",
      "2020-07-14-paper-title-number-5.md 2024-03-24-paper-title-number-1.md\n"
     ]
    }
   ],
   "source": [
    "!ls ../_publications/"
   ]
  },
  {
   "cell_type": "code",
   "execution_count": 7,
   "metadata": {
    "collapsed": false,
    "deletable": true,
    "editable": true
   },
   "outputs": [
    {
     "name": "stdout",
     "output_type": "stream",
     "text": [
      "cat: ../_publications/2009-10-01-paper-title-number-1.md: No such file or directory\n"
     ]
    }
   ],
   "source": [
    "!cat ../_publications/2009-10-01-paper-title-number-1.md"
   ]
  },
  {
   "cell_type": "code",
   "execution_count": null,
   "metadata": {
    "collapsed": true,
    "deletable": true,
    "editable": true
   },
   "outputs": [],
   "source": []
  }
 ],
 "metadata": {
  "kernelspec": {
   "display_name": "Python 3",
   "language": "python",
   "name": "python3"
  },
  "language_info": {
   "codemirror_mode": {
    "name": "ipython",
    "version": 3
   },
   "file_extension": ".py",
   "mimetype": "text/x-python",
   "name": "python",
   "nbconvert_exporter": "python",
   "pygments_lexer": "ipython3",
   "version": "3.11.0"
  }
 },
 "nbformat": 4,
 "nbformat_minor": 0
}
